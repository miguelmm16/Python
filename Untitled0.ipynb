{
  "nbformat": 4,
  "nbformat_minor": 0,
  "metadata": {
    "colab": {
      "provenance": [],
      "authorship_tag": "ABX9TyMmhDA4Kha3RqVIt9cUzTT1",
      "include_colab_link": true
    },
    "kernelspec": {
      "name": "python3",
      "display_name": "Python 3"
    },
    "language_info": {
      "name": "python"
    }
  },
  "cells": [
    {
      "cell_type": "markdown",
      "metadata": {
        "id": "view-in-github",
        "colab_type": "text"
      },
      "source": [
        "<a href=\"https://colab.research.google.com/github/miguelmm16/Python/blob/main/Untitled0.ipynb\" target=\"_parent\"><img src=\"https://colab.research.google.com/assets/colab-badge.svg\" alt=\"Open In Colab\"/></a>"
      ]
    },
    {
      "cell_type": "code",
      "execution_count": null,
      "metadata": {
        "colab": {
          "base_uri": "https://localhost:8080/"
        },
        "id": "mKOREaabvA9M",
        "outputId": "b210b086-6fc3-413e-dfd2-527ebd876423"
      },
      "outputs": [
        {
          "output_type": "stream",
          "name": "stdout",
          "text": [
            "Selecione a operação:\n",
            "1. Soma\n",
            "2. Subtração\n",
            "3. Multiplicação\n",
            "4. Divisão\n",
            "5. Média\n",
            "6. Maior valor\n",
            "7. Menor valor\n",
            "8. Diferença absoluta\n",
            "0. Sair\n",
            "Digite o número da operação desejada: 2\n",
            "Digite o primeiro número: 3\n",
            "Digite o segundo número: 3\n",
            "Resultado: 0.0\n",
            "Selecione a operação:\n",
            "1. Soma\n",
            "2. Subtração\n",
            "3. Multiplicação\n",
            "4. Divisão\n",
            "5. Média\n",
            "6. Maior valor\n",
            "7. Menor valor\n",
            "8. Diferença absoluta\n",
            "0. Sair\n"
          ]
        }
      ],
      "source": [
        "def calculadora():\n",
        "    while True:\n",
        "        print(\"Selecione a operação:\")\n",
        "        print(\"1. Soma\")\n",
        "        print(\"2. Subtração\")\n",
        "        print(\"3. Multiplicação\")\n",
        "        print(\"4. Divisão\")\n",
        "        print(\"5. Média\")\n",
        "        print(\"6. Maior valor\")\n",
        "        print(\"7. Menor valor\")\n",
        "        print(\"8. Diferença absoluta\")\n",
        "        print(\"0. Sair\")\n",
        "\n",
        "        escolha = input(\"Digite o número da operação desejada: \")\n",
        "\n",
        "        if escolha == '0':\n",
        "            print(\"Encerrando a calculadora.\")\n",
        "            break\n",
        "        elif escolha in ('1', '2', '3', '4', '5', '6', '7', '8'):\n",
        "            num1 = float(input(\"Digite o primeiro número: \"))\n",
        "            num2 = float(input(\"Digite o segundo número: \"))\n",
        "\n",
        "            if escolha == '1':\n",
        "                resultado = num1 + num2\n",
        "                print(\"Resultado: {}\".format(resultado))\n",
        "            elif escolha == '2':\n",
        "                resultado = num1 - num2\n",
        "                print(\"Resultado: {}\".format(resultado))\n",
        "            elif escolha == '3':\n",
        "                resultado = num1 * num2\n",
        "                print(\"Resultado: {}\".format(resultado))\n",
        "            elif escolha == '4':\n",
        "                if num2 != 0:\n",
        "                    resultado = num1 / num2\n",
        "                    print(\"Resultado: {}\".format(resultado))\n",
        "                else:\n",
        "                    print(\"Erro! Divisão por zero.\")\n",
        "            elif escolha == '5':\n",
        "                resultado = (num1 + num2) / 2\n",
        "                print(\"Resultado: {}\".format(resultado))\n",
        "            elif escolha == '6':\n",
        "                resultado = max(num1, num2)\n",
        "                print(\"Maior valor: {}\".format(resultado))\n",
        "            elif escolha == '7':\n",
        "                resultado = min(num1, num2)\n",
        "                print(\"Menor valor: {}\".format(resultado))\n",
        "            elif escolha == '8':\n",
        "                resultado = abs(num1 - num2)\n",
        "                print(\"Diferença absoluta: {}\".format(resultado))\n",
        "        else:\n",
        "            print(\"Escolha inválida. Tente novamente.\")\n",
        "\n",
        "if __name__ == \"__main__\":\n",
        "    calculadora()\n"
      ]
    }
  ]
}